{
 "cells": [
  {
   "cell_type": "code",
   "execution_count": 1,
   "id": "0012abe3",
   "metadata": {},
   "outputs": [],
   "source": [
    "import numpy as np\n",
    "import pandas as pd\n",
    "from sklearn.neighbors import KNeighborsClassifier"
   ]
  },
  {
   "cell_type": "code",
   "execution_count": 2,
   "id": "1f6fd2c7",
   "metadata": {},
   "outputs": [],
   "source": [
    "df = pd.read_csv('train.csv')"
   ]
  },
  {
   "cell_type": "code",
   "execution_count": 4,
   "id": "114c7292",
   "metadata": {},
   "outputs": [],
   "source": [
    "df_y = df['class']\n",
    "df_x = df.drop('class', axis = 1)"
   ]
  },
  {
   "cell_type": "code",
   "execution_count": 35,
   "id": "722f58e8",
   "metadata": {},
   "outputs": [
    {
     "data": {
      "text/html": [
       "<div>\n",
       "<style scoped>\n",
       "    .dataframe tbody tr th:only-of-type {\n",
       "        vertical-align: middle;\n",
       "    }\n",
       "\n",
       "    .dataframe tbody tr th {\n",
       "        vertical-align: top;\n",
       "    }\n",
       "\n",
       "    .dataframe thead th {\n",
       "        text-align: right;\n",
       "    }\n",
       "</style>\n",
       "<table border=\"1\" class=\"dataframe\">\n",
       "  <thead>\n",
       "    <tr style=\"text-align: right;\">\n",
       "      <th></th>\n",
       "      <th>x</th>\n",
       "      <th>y</th>\n",
       "      <th>z</th>\n",
       "    </tr>\n",
       "  </thead>\n",
       "  <tbody>\n",
       "    <tr>\n",
       "      <th>0</th>\n",
       "      <td>8.599291</td>\n",
       "      <td>9.729418</td>\n",
       "      <td>6.432371</td>\n",
       "    </tr>\n",
       "    <tr>\n",
       "      <th>1</th>\n",
       "      <td>6.592955</td>\n",
       "      <td>0.082556</td>\n",
       "      <td>1.969544</td>\n",
       "    </tr>\n",
       "    <tr>\n",
       "      <th>2</th>\n",
       "      <td>5.596471</td>\n",
       "      <td>9.815682</td>\n",
       "      <td>0.027295</td>\n",
       "    </tr>\n",
       "    <tr>\n",
       "      <th>3</th>\n",
       "      <td>2.743639</td>\n",
       "      <td>8.783177</td>\n",
       "      <td>4.041946</td>\n",
       "    </tr>\n",
       "    <tr>\n",
       "      <th>4</th>\n",
       "      <td>4.458362</td>\n",
       "      <td>5.750222</td>\n",
       "      <td>0.099070</td>\n",
       "    </tr>\n",
       "    <tr>\n",
       "      <th>...</th>\n",
       "      <td>...</td>\n",
       "      <td>...</td>\n",
       "      <td>...</td>\n",
       "    </tr>\n",
       "    <tr>\n",
       "      <th>995</th>\n",
       "      <td>4.617314</td>\n",
       "      <td>7.700236</td>\n",
       "      <td>5.907128</td>\n",
       "    </tr>\n",
       "    <tr>\n",
       "      <th>996</th>\n",
       "      <td>5.453472</td>\n",
       "      <td>1.798360</td>\n",
       "      <td>1.992616</td>\n",
       "    </tr>\n",
       "    <tr>\n",
       "      <th>997</th>\n",
       "      <td>2.553853</td>\n",
       "      <td>8.122934</td>\n",
       "      <td>3.970146</td>\n",
       "    </tr>\n",
       "    <tr>\n",
       "      <th>998</th>\n",
       "      <td>3.210456</td>\n",
       "      <td>3.342092</td>\n",
       "      <td>7.831479</td>\n",
       "    </tr>\n",
       "    <tr>\n",
       "      <th>999</th>\n",
       "      <td>6.930237</td>\n",
       "      <td>2.742352</td>\n",
       "      <td>4.678527</td>\n",
       "    </tr>\n",
       "  </tbody>\n",
       "</table>\n",
       "<p>1000 rows × 3 columns</p>\n",
       "</div>"
      ],
      "text/plain": [
       "            x         y         z\n",
       "0    8.599291  9.729418  6.432371\n",
       "1    6.592955  0.082556  1.969544\n",
       "2    5.596471  9.815682  0.027295\n",
       "3    2.743639  8.783177  4.041946\n",
       "4    4.458362  5.750222  0.099070\n",
       "..        ...       ...       ...\n",
       "995  4.617314  7.700236  5.907128\n",
       "996  5.453472  1.798360  1.992616\n",
       "997  2.553853  8.122934  3.970146\n",
       "998  3.210456  3.342092  7.831479\n",
       "999  6.930237  2.742352  4.678527\n",
       "\n",
       "[1000 rows x 3 columns]"
      ]
     },
     "execution_count": 35,
     "metadata": {},
     "output_type": "execute_result"
    }
   ],
   "source": [
    "clf_euc = KNeighborsClassifier(3, p=2)\n",
    "clf_euc.fit(df_x, df_y)\n",
    "df_x\n"
   ]
  },
  {
   "cell_type": "code",
   "execution_count": 36,
   "id": "80033f2a",
   "metadata": {},
   "outputs": [
    {
     "name": "stderr",
     "output_type": "stream",
     "text": [
      "/home/eashan/.local/lib/python3.8/site-packages/sklearn/neighbors/_classification.py:237: FutureWarning: Unlike other reduction functions (e.g. `skew`, `kurtosis`), the default behavior of `mode` typically preserves the axis it acts along. In SciPy 1.11.0, this behavior will change: the default value of `keepdims` will become False, the `axis` over which the statistic is taken will be eliminated, and the value None will no longer be accepted. Set `keepdims` to True or False to avoid this warning.\n",
      "  mode, _ = stats.mode(_y[neigh_ind, k], axis=1)\n"
     ]
    },
    {
     "data": {
      "text/plain": [
       "0.951"
      ]
     },
     "execution_count": 36,
     "metadata": {},
     "output_type": "execute_result"
    }
   ],
   "source": [
    "clf_euc.score(df_x, df_y)"
   ]
  },
  {
   "cell_type": "code",
   "execution_count": 37,
   "id": "dd36419a",
   "metadata": {},
   "outputs": [
    {
     "data": {
      "text/html": [
       "<div>\n",
       "<style scoped>\n",
       "    .dataframe tbody tr th:only-of-type {\n",
       "        vertical-align: middle;\n",
       "    }\n",
       "\n",
       "    .dataframe tbody tr th {\n",
       "        vertical-align: top;\n",
       "    }\n",
       "\n",
       "    .dataframe thead th {\n",
       "        text-align: right;\n",
       "    }\n",
       "</style>\n",
       "<table border=\"1\" class=\"dataframe\">\n",
       "  <thead>\n",
       "    <tr style=\"text-align: right;\">\n",
       "      <th></th>\n",
       "      <th>x</th>\n",
       "      <th>y</th>\n",
       "      <th>z</th>\n",
       "    </tr>\n",
       "  </thead>\n",
       "  <tbody>\n",
       "    <tr>\n",
       "      <th>0</th>\n",
       "      <td>8.074807</td>\n",
       "      <td>5.988044</td>\n",
       "      <td>3.844979</td>\n",
       "    </tr>\n",
       "    <tr>\n",
       "      <th>1</th>\n",
       "      <td>4.952249</td>\n",
       "      <td>5.823205</td>\n",
       "      <td>1.612045</td>\n",
       "    </tr>\n",
       "    <tr>\n",
       "      <th>2</th>\n",
       "      <td>4.773178</td>\n",
       "      <td>0.078757</td>\n",
       "      <td>4.209442</td>\n",
       "    </tr>\n",
       "    <tr>\n",
       "      <th>3</th>\n",
       "      <td>9.845919</td>\n",
       "      <td>2.055448</td>\n",
       "      <td>3.525702</td>\n",
       "    </tr>\n",
       "    <tr>\n",
       "      <th>4</th>\n",
       "      <td>1.612492</td>\n",
       "      <td>1.320515</td>\n",
       "      <td>8.200455</td>\n",
       "    </tr>\n",
       "    <tr>\n",
       "      <th>5</th>\n",
       "      <td>7.987555</td>\n",
       "      <td>9.188111</td>\n",
       "      <td>7.222228</td>\n",
       "    </tr>\n",
       "    <tr>\n",
       "      <th>6</th>\n",
       "      <td>0.311558</td>\n",
       "      <td>3.974680</td>\n",
       "      <td>7.897371</td>\n",
       "    </tr>\n",
       "    <tr>\n",
       "      <th>7</th>\n",
       "      <td>1.219113</td>\n",
       "      <td>0.266045</td>\n",
       "      <td>2.741136</td>\n",
       "    </tr>\n",
       "    <tr>\n",
       "      <th>8</th>\n",
       "      <td>0.636340</td>\n",
       "      <td>1.831257</td>\n",
       "      <td>6.767459</td>\n",
       "    </tr>\n",
       "    <tr>\n",
       "      <th>9</th>\n",
       "      <td>0.890168</td>\n",
       "      <td>8.613714</td>\n",
       "      <td>2.884227</td>\n",
       "    </tr>\n",
       "    <tr>\n",
       "      <th>10</th>\n",
       "      <td>7.226514</td>\n",
       "      <td>9.852794</td>\n",
       "      <td>7.373560</td>\n",
       "    </tr>\n",
       "    <tr>\n",
       "      <th>11</th>\n",
       "      <td>2.709551</td>\n",
       "      <td>3.719191</td>\n",
       "      <td>5.743540</td>\n",
       "    </tr>\n",
       "    <tr>\n",
       "      <th>12</th>\n",
       "      <td>2.842368</td>\n",
       "      <td>1.902145</td>\n",
       "      <td>2.216614</td>\n",
       "    </tr>\n",
       "    <tr>\n",
       "      <th>13</th>\n",
       "      <td>3.610773</td>\n",
       "      <td>4.589548</td>\n",
       "      <td>7.714008</td>\n",
       "    </tr>\n",
       "    <tr>\n",
       "      <th>14</th>\n",
       "      <td>4.888200</td>\n",
       "      <td>6.720637</td>\n",
       "      <td>7.261562</td>\n",
       "    </tr>\n",
       "    <tr>\n",
       "      <th>15</th>\n",
       "      <td>8.857224</td>\n",
       "      <td>9.056900</td>\n",
       "      <td>8.862604</td>\n",
       "    </tr>\n",
       "    <tr>\n",
       "      <th>16</th>\n",
       "      <td>8.239402</td>\n",
       "      <td>9.347802</td>\n",
       "      <td>5.277351</td>\n",
       "    </tr>\n",
       "    <tr>\n",
       "      <th>17</th>\n",
       "      <td>3.219759</td>\n",
       "      <td>2.980960</td>\n",
       "      <td>6.646886</td>\n",
       "    </tr>\n",
       "    <tr>\n",
       "      <th>18</th>\n",
       "      <td>2.146974</td>\n",
       "      <td>5.328725</td>\n",
       "      <td>5.801703</td>\n",
       "    </tr>\n",
       "    <tr>\n",
       "      <th>19</th>\n",
       "      <td>1.156302</td>\n",
       "      <td>8.542813</td>\n",
       "      <td>1.859447</td>\n",
       "    </tr>\n",
       "  </tbody>\n",
       "</table>\n",
       "</div>"
      ],
      "text/plain": [
       "           x         y         z\n",
       "0   8.074807  5.988044  3.844979\n",
       "1   4.952249  5.823205  1.612045\n",
       "2   4.773178  0.078757  4.209442\n",
       "3   9.845919  2.055448  3.525702\n",
       "4   1.612492  1.320515  8.200455\n",
       "5   7.987555  9.188111  7.222228\n",
       "6   0.311558  3.974680  7.897371\n",
       "7   1.219113  0.266045  2.741136\n",
       "8   0.636340  1.831257  6.767459\n",
       "9   0.890168  8.613714  2.884227\n",
       "10  7.226514  9.852794  7.373560\n",
       "11  2.709551  3.719191  5.743540\n",
       "12  2.842368  1.902145  2.216614\n",
       "13  3.610773  4.589548  7.714008\n",
       "14  4.888200  6.720637  7.261562\n",
       "15  8.857224  9.056900  8.862604\n",
       "16  8.239402  9.347802  5.277351\n",
       "17  3.219759  2.980960  6.646886\n",
       "18  2.146974  5.328725  5.801703\n",
       "19  1.156302  8.542813  1.859447"
      ]
     },
     "execution_count": 37,
     "metadata": {},
     "output_type": "execute_result"
    }
   ],
   "source": [
    "test_df = pd.read_csv('test.csv')\n",
    "tdf_y = test_df['actual-class']\n",
    "tdf_x = test_df.drop('actual-class', axis = 1)\n",
    "tdf_x = tdf_x.drop('ID', axis = 1)\n",
    "tdf_x"
   ]
  },
  {
   "cell_type": "code",
   "execution_count": 38,
   "id": "ab5d06c0",
   "metadata": {},
   "outputs": [
    {
     "name": "stderr",
     "output_type": "stream",
     "text": [
      "/home/eashan/.local/lib/python3.8/site-packages/sklearn/neighbors/_classification.py:237: FutureWarning: Unlike other reduction functions (e.g. `skew`, `kurtosis`), the default behavior of `mode` typically preserves the axis it acts along. In SciPy 1.11.0, this behavior will change: the default value of `keepdims` will become False, the `axis` over which the statistic is taken will be eliminated, and the value None will no longer be accepted. Set `keepdims` to True or False to avoid this warning.\n",
      "  mode, _ = stats.mode(_y[neigh_ind, k], axis=1)\n"
     ]
    },
    {
     "data": {
      "text/plain": [
       "0.95"
      ]
     },
     "execution_count": 38,
     "metadata": {},
     "output_type": "execute_result"
    }
   ],
   "source": [
    "clf_euc.score(tdf_x, tdf_y)"
   ]
  },
  {
   "cell_type": "code",
   "execution_count": 79,
   "id": "7789e77e",
   "metadata": {},
   "outputs": [
    {
     "name": "stdout",
     "output_type": "stream",
     "text": [
      "[[0.33333333 0.66666667]]\n",
      "[[1. 0.]]\n",
      "[[0.         1.        ]\n",
      " [0.66666667 0.33333333]\n",
      " [1.         0.        ]\n",
      " [0.         1.        ]\n",
      " [1.         0.        ]\n",
      " [0.         1.        ]\n",
      " [1.         0.        ]\n",
      " [1.         0.        ]\n",
      " [1.         0.        ]\n",
      " [1.         0.        ]\n",
      " [0.         1.        ]\n",
      " [1.         0.        ]\n",
      " [1.         0.        ]\n",
      " [1.         0.        ]\n",
      " [0.33333333 0.66666667]\n",
      " [0.         1.        ]\n",
      " [0.         1.        ]\n",
      " [1.         0.        ]\n",
      " [1.         0.        ]\n",
      " [1.         0.        ]]\n"
     ]
    },
    {
     "name": "stderr",
     "output_type": "stream",
     "text": [
      "/home/eashan/.local/lib/python3.8/site-packages/sklearn/base.py:450: UserWarning: X does not have valid feature names, but KNeighborsClassifier was fitted with feature names\n",
      "  warnings.warn(\n",
      "/home/eashan/.local/lib/python3.8/site-packages/sklearn/base.py:450: UserWarning: X does not have valid feature names, but KNeighborsClassifier was fitted with feature names\n",
      "  warnings.warn(\n"
     ]
    }
   ],
   "source": [
    "print(clf_euc.predict_proba([[6.930237, 2.742352, 4.678527]]))\n",
    "print(clf_euc.predict_proba([[1.156302, 8.542813, 1.859447]]))\n",
    "print(clf_euc.predict_proba(tdf_x))"
   ]
  },
  {
   "cell_type": "code",
   "execution_count": 78,
   "id": "e8268161",
   "metadata": {},
   "outputs": [
    {
     "name": "stdout",
     "output_type": "stream",
     "text": [
      "0.948\n",
      "1.0\n",
      "[[0.33333333 0.66666667]]\n",
      "[[1. 0.]]\n",
      "[[0.         1.        ]\n",
      " [0.66666667 0.33333333]\n",
      " [1.         0.        ]\n",
      " [0.         1.        ]\n",
      " [1.         0.        ]\n",
      " [0.         1.        ]\n",
      " [1.         0.        ]\n",
      " [1.         0.        ]\n",
      " [1.         0.        ]\n",
      " [1.         0.        ]\n",
      " [0.         1.        ]\n",
      " [1.         0.        ]\n",
      " [1.         0.        ]\n",
      " [1.         0.        ]\n",
      " [0.66666667 0.33333333]\n",
      " [0.         1.        ]\n",
      " [0.         1.        ]\n",
      " [1.         0.        ]\n",
      " [1.         0.        ]\n",
      " [1.         0.        ]]\n"
     ]
    },
    {
     "name": "stderr",
     "output_type": "stream",
     "text": [
      "/home/eashan/.local/lib/python3.8/site-packages/sklearn/neighbors/_classification.py:237: FutureWarning: Unlike other reduction functions (e.g. `skew`, `kurtosis`), the default behavior of `mode` typically preserves the axis it acts along. In SciPy 1.11.0, this behavior will change: the default value of `keepdims` will become False, the `axis` over which the statistic is taken will be eliminated, and the value None will no longer be accepted. Set `keepdims` to True or False to avoid this warning.\n",
      "  mode, _ = stats.mode(_y[neigh_ind, k], axis=1)\n",
      "/home/eashan/.local/lib/python3.8/site-packages/sklearn/neighbors/_classification.py:237: FutureWarning: Unlike other reduction functions (e.g. `skew`, `kurtosis`), the default behavior of `mode` typically preserves the axis it acts along. In SciPy 1.11.0, this behavior will change: the default value of `keepdims` will become False, the `axis` over which the statistic is taken will be eliminated, and the value None will no longer be accepted. Set `keepdims` to True or False to avoid this warning.\n",
      "  mode, _ = stats.mode(_y[neigh_ind, k], axis=1)\n",
      "/home/eashan/.local/lib/python3.8/site-packages/sklearn/base.py:450: UserWarning: X does not have valid feature names, but KNeighborsClassifier was fitted with feature names\n",
      "  warnings.warn(\n",
      "/home/eashan/.local/lib/python3.8/site-packages/sklearn/base.py:450: UserWarning: X does not have valid feature names, but KNeighborsClassifier was fitted with feature names\n",
      "  warnings.warn(\n"
     ]
    }
   ],
   "source": [
    "clf_manh = KNeighborsClassifier(3, p=1)\n",
    "clf_manh.fit(df_x, df_y)\n",
    "print(clf_manh.score(df_x, df_y))\n",
    "print(clf_manh.score(tdf_x, tdf_y))\n",
    "print(clf_manh.predict_proba([[6.930237, 2.742352, 4.678527]]))\n",
    "print(clf_manh.predict_proba([[1.156302, 8.542813, 1.859447]]))\n",
    "print(clf_manh.predict_proba(tdf_x))\n"
   ]
  },
  {
   "cell_type": "code",
   "execution_count": 77,
   "id": "38020158",
   "metadata": {},
   "outputs": [
    {
     "name": "stderr",
     "output_type": "stream",
     "text": [
      "/home/eashan/.local/lib/python3.8/site-packages/sklearn/neighbors/_classification.py:237: FutureWarning: Unlike other reduction functions (e.g. `skew`, `kurtosis`), the default behavior of `mode` typically preserves the axis it acts along. In SciPy 1.11.0, this behavior will change: the default value of `keepdims` will become False, the `axis` over which the statistic is taken will be eliminated, and the value None will no longer be accepted. Set `keepdims` to True or False to avoid this warning.\n",
      "  mode, _ = stats.mode(_y[neigh_ind, k], axis=1)\n"
     ]
    },
    {
     "data": {
      "text/plain": [
       "array([1, 0, 0, 1, 0, 1, 0, 0, 0, 0, 1, 0, 0, 0, 1, 1, 1, 0, 0, 0])"
      ]
     },
     "execution_count": 77,
     "metadata": {},
     "output_type": "execute_result"
    }
   ],
   "source": [
    "clf_euc.predict(tdf_x)"
   ]
  },
  {
   "cell_type": "code",
   "execution_count": 74,
   "id": "520b518a",
   "metadata": {},
   "outputs": [
    {
     "name": "stderr",
     "output_type": "stream",
     "text": [
      "/home/eashan/.local/lib/python3.8/site-packages/sklearn/neighbors/_classification.py:237: FutureWarning: Unlike other reduction functions (e.g. `skew`, `kurtosis`), the default behavior of `mode` typically preserves the axis it acts along. In SciPy 1.11.0, this behavior will change: the default value of `keepdims` will become False, the `axis` over which the statistic is taken will be eliminated, and the value None will no longer be accepted. Set `keepdims` to True or False to avoid this warning.\n",
      "  mode, _ = stats.mode(_y[neigh_ind, k], axis=1)\n"
     ]
    },
    {
     "data": {
      "text/plain": [
       "array([1, 0, 0, 1, 0, 1, 0, 0, 0, 0, 1, 0, 0, 0, 0, 1, 1, 0, 0, 0])"
      ]
     },
     "execution_count": 74,
     "metadata": {},
     "output_type": "execute_result"
    }
   ],
   "source": [
    "clf_manh.predict(tdf_x)"
   ]
  },
  {
   "cell_type": "code",
   "execution_count": 75,
   "id": "f37ea1bc",
   "metadata": {},
   "outputs": [
    {
     "data": {
      "text/plain": [
       "0     1\n",
       "1     0\n",
       "2     0\n",
       "3     1\n",
       "4     0\n",
       "5     1\n",
       "6     0\n",
       "7     0\n",
       "8     0\n",
       "9     0\n",
       "10    1\n",
       "11    0\n",
       "12    0\n",
       "13    0\n",
       "14    0\n",
       "15    1\n",
       "16    1\n",
       "17    0\n",
       "18    0\n",
       "19    0\n",
       "Name: actual-class, dtype: int64"
      ]
     },
     "execution_count": 75,
     "metadata": {},
     "output_type": "execute_result"
    }
   ],
   "source": [
    "tdf_y"
   ]
  },
  {
   "cell_type": "code",
   "execution_count": null,
   "id": "d2eb1d0a",
   "metadata": {},
   "outputs": [],
   "source": [
    "#so the prediction is 100% accurate \n",
    "#    Euclidean knn       Manhattan knn\n",
    "#        actual              actual\n",
    "#          +  -               +  -\n",
    "#  pred + 6   0             + 6  0\n",
    "#       - 1  13             - 0  14\n",
    "# \n",
    "#  Accuracy = 0.95        Accuracy = 1\n",
    "#  precision = 1          precision = 1\n",
    "#  recall = 0.857           recall = 1\n",
    "#  F-measure = 0.923      F-measure = 1\n",
    "#\n",
    "# The manhattan method gives better perfermance.\n",
    "\n"
   ]
  }
 ],
 "metadata": {
  "kernelspec": {
   "display_name": "Python 3 (ipykernel)",
   "language": "python",
   "name": "python3"
  },
  "language_info": {
   "codemirror_mode": {
    "name": "ipython",
    "version": 3
   },
   "file_extension": ".py",
   "mimetype": "text/x-python",
   "name": "python",
   "nbconvert_exporter": "python",
   "pygments_lexer": "ipython3",
   "version": "3.8.10"
  }
 },
 "nbformat": 4,
 "nbformat_minor": 5
}
