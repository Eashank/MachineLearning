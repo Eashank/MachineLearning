{
 "cells": [
  {
   "cell_type": "code",
   "execution_count": 118,
   "id": "fc7dfe35",
   "metadata": {},
   "outputs": [],
   "source": [
    "import numpy as np\n",
    "import pandas as pd\n",
    "from sklearn.model_selection import KFold\n",
    "from sklearn.model_selection import cross_val_score\n"
   ]
  },
  {
   "cell_type": "code",
   "execution_count": 119,
   "id": "f1dfc10b",
   "metadata": {},
   "outputs": [
    {
     "name": "stdout",
     "output_type": "stream",
     "text": [
      "661    17.63\n",
      "122    13.57\n",
      "113    34.62\n",
      "14     21.16\n",
      "529    33.34\n",
      "       ...  \n",
      "476    15.41\n",
      "482    30.00\n",
      "230    15.00\n",
      "527    14.75\n",
      "380    15.32\n",
      "Name: Y2, Length: 154, dtype: float64\n"
     ]
    }
   ],
   "source": [
    "#Collecting the data\n",
    "\n",
    "#data = pd.read_csv(r\"/home/eashan/Downloads/ML_Homwork_1/ENB2012_data.xlsx\")\n",
    "data = pd.read_csv(\"ENB2012_data.csv\")\n",
    "\n",
    "inputs = data.iloc[: , :-1]\n",
    "output = data.iloc[: , -1]\n",
    "# print(data.head())\n",
    "# print(inputs)\n",
    "# print(output)\n",
    "\n",
    "inputs_train, inputs_test, output_train, output_test = train_test_split(inputs, output, test_size = 0.2, random_state = 0)\n",
    "\n",
    "print(output_test)"
   ]
  },
  {
   "cell_type": "code",
   "execution_count": 120,
   "id": "ef964744",
   "metadata": {},
   "outputs": [],
   "source": [
    "#Lasso regression \n",
    "from sklearn.linear_model import Lasso\n",
    "lassomodel = Lasso()\n",
    "lassomodel.fit(inputs_train, output_train)\n",
    "predLasso = lassomodel.predict(inputs_test)\n"
   ]
  },
  {
   "cell_type": "code",
   "execution_count": 121,
   "id": "dc4f04fa",
   "metadata": {},
   "outputs": [],
   "source": [
    "#Ridge regression\n",
    "from sklearn.linear_model import Ridge\n",
    "ridgemodel = Ridge()\n",
    "ridgemodel.fit(inputs_train, output_train)\n",
    "predridge = ridgemodel.predict(inputs_test)"
   ]
  },
  {
   "cell_type": "code",
   "execution_count": 122,
   "id": "04e26174",
   "metadata": {},
   "outputs": [],
   "source": [
    "#Elastic Net regression\n",
    "from sklearn.linear_model import ElasticNet\n",
    "elasticmodel = ElasticNet()\n",
    "elasticmodel.fit(inputs_train, output_train)\n",
    "predelastic = elasticmodel.predict(inputs_test)"
   ]
  },
  {
   "cell_type": "code",
   "execution_count": 123,
   "id": "bf1f12e9",
   "metadata": {},
   "outputs": [
    {
     "name": "stdout",
     "output_type": "stream",
     "text": [
      "Lasso score:-20.15365615037635\n",
      "Ridge score:-12.753373781372687\n",
      "Elastic score:-20.345333116848103\n"
     ]
    }
   ],
   "source": [
    "#comparison using 5 fold cross validation with mean squre error\n",
    "predLasso = cross_val_score(lassomodel,inputs_test, output_test, cv = 5, scoring = \"neg_mean_squared_error\")\n",
    "print(f\"Lasso score:{np.mean(predLasso)}\")\n",
    "\n",
    "predridge = cross_val_score(ridgemodel,inputs_test, output_test, cv = 5, scoring = \"neg_mean_squared_error\")\n",
    "print(f\"Ridge score:{np.mean(predridge)}\")\n",
    "\n",
    "predelastic = cross_val_score(elasticmodel,inputs_test, output_test, cv = 5, scoring = \"neg_mean_squared_error\")\n",
    "print(f\"Elastic score:{np.mean(predelastic)}\")"
   ]
  },
  {
   "cell_type": "code",
   "execution_count": null,
   "id": "41fb3cb8",
   "metadata": {},
   "outputs": [],
   "source": []
  },
  {
   "cell_type": "code",
   "execution_count": null,
   "id": "0641f930",
   "metadata": {},
   "outputs": [],
   "source": []
  },
  {
   "cell_type": "code",
   "execution_count": null,
   "id": "dfd507fc",
   "metadata": {},
   "outputs": [],
   "source": []
  },
  {
   "cell_type": "code",
   "execution_count": null,
   "id": "ad6cbbd9",
   "metadata": {},
   "outputs": [],
   "source": []
  }
 ],
 "metadata": {
  "kernelspec": {
   "display_name": "Python 3 (ipykernel)",
   "language": "python",
   "name": "python3"
  },
  "language_info": {
   "codemirror_mode": {
    "name": "ipython",
    "version": 3
   },
   "file_extension": ".py",
   "mimetype": "text/x-python",
   "name": "python",
   "nbconvert_exporter": "python",
   "pygments_lexer": "ipython3",
   "version": "3.8.10"
  }
 },
 "nbformat": 4,
 "nbformat_minor": 5
}
